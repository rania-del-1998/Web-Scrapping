{
 "cells": [
  {
   "cell_type": "markdown",
   "id": "1968b965",
   "metadata": {},
   "source": [
    "# Récuperer des élements d'une page"
   ]
  },
  {
   "cell_type": "code",
   "execution_count": 3,
   "id": "80275b25",
   "metadata": {},
   "outputs": [
    {
     "name": "stdout",
     "output_type": "stream",
     "text": [
      "b'<html>\\r\\n  <head>\\r\\n      <title> Un exemple de page HTML </title>\\r\\n  </head>\\r\\n\\r\\n  <body>\\r\\n      <p>Un simple paragraphe</p>\\r\\n  </body>\\r\\n</html>'\n"
     ]
    }
   ],
   "source": [
    "import requests\n",
    "from bs4 import BeautifulSoup\n",
    "response = requests.get(\"https://raw.githubusercontent.com/codelikerod/web-scraping/master/exemple1.html\")\n",
    "content = response.content\n",
    "print(content)"
   ]
  },
  {
   "cell_type": "code",
   "execution_count": 5,
   "id": "b927a671",
   "metadata": {},
   "outputs": [
    {
     "name": "stdout",
     "output_type": "stream",
     "text": [
      "<p>Un simple paragraphe</p>\n",
      "Un simple paragraphe\n"
     ]
    }
   ],
   "source": [
    "parser = BeautifulSoup(content, 'html.parser')\n",
    "body = parser.body\n",
    "p=body.p\n",
    "print(p)\n",
    "print(p.text)"
   ]
  },
  {
   "cell_type": "code",
   "execution_count": 8,
   "id": "ae4a11f3",
   "metadata": {},
   "outputs": [
    {
     "name": "stdout",
     "output_type": "stream",
     "text": [
      "<title> Un exemple de page HTML </title>\n",
      " Un exemple de page HTML \n"
     ]
    }
   ],
   "source": [
    "head = parser.head\n",
    "title=head.title\n",
    "print(title)\n",
    "print(title.text)"
   ]
  },
  {
   "cell_type": "markdown",
   "id": "00f8f47a",
   "metadata": {},
   "source": [
    "# find all"
   ]
  },
  {
   "cell_type": "code",
   "execution_count": 11,
   "id": "d931fb2a",
   "metadata": {},
   "outputs": [
    {
     "name": "stdout",
     "output_type": "stream",
     "text": [
      "<p>Un simple paragraphe</p>\n"
     ]
    }
   ],
   "source": [
    "body = parser.find_all(\"body\")\n",
    "p = body[0].find_all(\"p\")\n",
    "print(p[0])"
   ]
  },
  {
   "cell_type": "code",
   "execution_count": 12,
   "id": "9f4af242",
   "metadata": {},
   "outputs": [
    {
     "name": "stdout",
     "output_type": "stream",
     "text": [
      "<title> Un exemple de page HTML </title>\n"
     ]
    }
   ],
   "source": [
    "head = parser.find_all(\"head\")\n",
    "title = head[0].find_all(\"title\")\n",
    "print(title[0])"
   ]
  },
  {
   "cell_type": "code",
   "execution_count": 14,
   "id": "c0f9f1f6",
   "metadata": {},
   "outputs": [
    {
     "name": "stdout",
     "output_type": "stream",
     "text": [
      "1er paragraphe\n"
     ]
    }
   ],
   "source": [
    "response = requests.get(\"https://raw.githubusercontent.com/codelikerod/web-scraping/master/exemple2.html\")\n",
    "content = response.content\n",
    "parser = BeautifulSoup(content, 'html.parser')\n",
    "first_para = parser.find_all(\"p\", id=\"first\")[0]\n",
    "print(first_para.text)"
   ]
  },
  {
   "cell_type": "code",
   "execution_count": 15,
   "id": "e1f30f7e",
   "metadata": {},
   "outputs": [
    {
     "name": "stdout",
     "output_type": "stream",
     "text": [
      "2nd paragraphe\n"
     ]
    }
   ],
   "source": [
    "second_para = parser.find_all(\"p\", id=\"second\")[0]\n",
    "print(second_para.text)"
   ]
  },
  {
   "cell_type": "markdown",
   "id": "2c1db4cb",
   "metadata": {},
   "source": [
    "# Les classes"
   ]
  },
  {
   "cell_type": "code",
   "execution_count": 19,
   "id": "a75bc7b4",
   "metadata": {},
   "outputs": [
    {
     "name": "stdout",
     "output_type": "stream",
     "text": [
      "<p class=\"class1\">2nd paragraphe class 1</p>\n"
     ]
    }
   ],
   "source": [
    "response = requests.get(\"https://raw.githubusercontent.com/codelikerod/web-scraping/master/exemple3.html\")\n",
    "content = response.content\n",
    "parser = BeautifulSoup(content, 'html.parser')\n",
    "classe_une = parser.find_all(\"p\", class_ = \"class1\")[0]\n",
    "print(classe_une)"
   ]
  },
  {
   "cell_type": "code",
   "execution_count": 21,
   "id": "8a4f32a8",
   "metadata": {},
   "outputs": [
    {
     "name": "stdout",
     "output_type": "stream",
     "text": [
      "<p class=\"class2\">2nd paragraphe class 2</p>\n"
     ]
    }
   ],
   "source": [
    "response = requests.get(\"https://raw.githubusercontent.com/codelikerod/web-scraping/master/exemple3.html\")\n",
    "content = response.content\n",
    "parser = BeautifulSoup(content, 'html.parser')\n",
    "classe_deux = parser.find_all(\"p\", class_ = \"class2\")[1]\n",
    "print(classe_deux)"
   ]
  },
  {
   "cell_type": "markdown",
   "id": "b19d64a9",
   "metadata": {},
   "source": [
    "# CSS"
   ]
  },
  {
   "cell_type": "code",
   "execution_count": 22,
   "id": "9a5e7a15",
   "metadata": {},
   "outputs": [
    {
     "name": "stdout",
     "output_type": "stream",
     "text": [
      "[<p class=\"class1 first-item\" id=\"first\">1er paragraphe classe 1\r\n",
      "      </p>, <p class=\"class2 first-item\" id=\"second\">1er paragraphe class 2\r\n",
      "      </p>]\n"
     ]
    }
   ],
   "source": [
    "response = requests.get(\"https://raw.githubusercontent.com/codelikerod/web-scraping/master/exemple4.html\")\n",
    "content = response.content\n",
    "parser = BeautifulSoup(content, 'html.parser')\n",
    "first_items = parser.select(\".first-item\")\n",
    "print(first_items)"
   ]
  },
  {
   "cell_type": "code",
   "execution_count": 23,
   "id": "325a2abb",
   "metadata": {},
   "outputs": [
    {
     "name": "stdout",
     "output_type": "stream",
     "text": [
      "1er paragraphe class 2\r\n",
      "      \n"
     ]
    }
   ],
   "source": [
    "first_class2_text=parser.select(\".class2\")\n",
    "print(first_class2_text[0].text)"
   ]
  },
  {
   "cell_type": "code",
   "execution_count": 25,
   "id": "7d810626",
   "metadata": {},
   "outputs": [
    {
     "name": "stdout",
     "output_type": "stream",
     "text": [
      "1er paragraphe class 2\r\n",
      "      \n"
     ]
    }
   ],
   "source": [
    "second_id_text = parser.select(\"#second\")\n",
    "print(second_id_text[0].text)"
   ]
  },
  {
   "cell_type": "markdown",
   "id": "20c2c229",
   "metadata": {},
   "source": [
    "# Associer des selecteur"
   ]
  },
  {
   "cell_type": "code",
   "execution_count": 39,
   "id": "5ebf8081",
   "metadata": {},
   "outputs": [
    {
     "name": "stdout",
     "output_type": "stream",
     "text": [
      "24\n",
      "545\n"
     ]
    }
   ],
   "source": [
    "response = requests.get(\"https://raw.githubusercontent.com/codelikerod/web-scraping/master/psg-vs-chelsea.html\")\n",
    "content = response.content\n",
    "parser = BeautifulSoup(content, 'html.parser')\n",
    "offences_count = parser.find_all(\"tr\", id =\"fautes\")[0]\n",
    "chelsea_offences_count = offences_count.select(\"td\")[1]\n",
    "print(chelsea_offences_count.text)\n",
    "\n",
    "passes_count = parser.find_all(\"tr\", id =\"passes\")[0]\n",
    "psg_passes_count= passes_count.select(\"td\")[2]\n",
    "print(psg_passes_count.text)"
   ]
  },
  {
   "cell_type": "code",
   "execution_count": null,
   "id": "c1bdc85f",
   "metadata": {},
   "outputs": [],
   "source": []
  }
 ],
 "metadata": {
  "kernelspec": {
   "display_name": "Python 3",
   "language": "python",
   "name": "python3"
  },
  "language_info": {
   "codemirror_mode": {
    "name": "ipython",
    "version": 3
   },
   "file_extension": ".py",
   "mimetype": "text/x-python",
   "name": "python",
   "nbconvert_exporter": "python",
   "pygments_lexer": "ipython3",
   "version": "3.8.8"
  }
 },
 "nbformat": 4,
 "nbformat_minor": 5
}
